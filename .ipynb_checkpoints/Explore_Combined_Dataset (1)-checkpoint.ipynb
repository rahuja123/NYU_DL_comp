{
 "cells": [
  {
   "cell_type": "code",
   "execution_count": null,
   "metadata": {},
   "outputs": [],
   "source": [
    "import os\n",
    "import argparse\n",
    "\n",
    "import torch\n",
    "import torch.nn as nn\n",
    "import torch.nn.functional as F\n",
    "from torchvision import datasets, transforms, models\n",
    "from PIL import Image # PIL is a library to process images\n",
    "from matplotlib import pyplot as plt\n",
    "\n",
    "from data_helper import CustomDataset, UpdatedDataset\n",
    "import numpy as np"
   ]
  },
  {
   "cell_type": "code",
   "execution_count": null,
   "metadata": {},
   "outputs": [],
   "source": [
    "def show_image(img, title=None):\n",
    "    plt.imshow(img.detach().cpu().permute(1, 2, 0))\n",
    "    plt.title(title)\n",
    "    plt.axis('off')"
   ]
  },
  {
   "cell_type": "code",
   "execution_count": null,
   "metadata": {
    "scrolled": false
   },
   "outputs": [],
   "source": [
    "train_transform = transforms.Compose([\n",
    "        transforms.RandomHorizontalFlip(),\n",
    "        transforms.ColorJitter(hue=.1, saturation=.1, contrast=.1),\n",
    "        transforms.RandomRotation(20, resample=Image.BILINEAR),\n",
    "        transforms.GaussianBlur(7, sigma=(0.1, 1.0)),\n",
    "        transforms.ToTensor(),  # convert PIL to Pytorch Tensor\n",
    "        #normalize,\n",
    "    ])\n",
    "\n",
    "\n",
    "trainset1 = UpdatedDataset(root='./dataset', transform=train_transform)\n",
    "trainset2 = CustomDataset(root='./dataset', split=\"train\", transform=train_transform)\n",
    "trainset_full = torch.utils.data.ConcatDataset([trainset1, trainset2])\n",
    "trainloader = torch.utils.data.DataLoader(trainset_full, batch_size=1, shuffle=True, num_workers=0)"
   ]
  },
  {
   "cell_type": "code",
   "execution_count": null,
   "metadata": {},
   "outputs": [],
   "source": [
    "print(len(trainset_full))"
   ]
  },
  {
   "cell_type": "code",
   "execution_count": null,
   "metadata": {},
   "outputs": [],
   "source": [
    "for epoch in range(1):\n",
    "    running_loss = 0.0\n",
    "    count =0;\n",
    "    for i, data in enumerate(trainloader):\n",
    "        # get the inputs; data is a list of [inputs, labels]\n",
    "        inputs, labels = data\n",
    "        inputs, labels = inputs.cuda(), labels.cuda()\n",
    "        count +=1\n",
    "        plt.figure()\n",
    "        show_image(inputs[0], 'input')\n",
    "        #print(labels.shape)\n",
    "        plt.figure()\n",
    "        if count ==10:\n",
    "            break;\n"
   ]
  },
  {
   "cell_type": "code",
   "execution_count": null,
   "metadata": {},
   "outputs": [],
   "source": []
  }
 ],
 "metadata": {
  "kernelspec": {
   "display_name": "Python 3.7.3 64-bit ('anaconda3': virtualenv)",
   "language": "python",
   "name": "python37364bitanaconda3virtualenv6a4aa3cea09f4532bac0d060f335242c"
  },
  "language_info": {
   "codemirror_mode": {
    "name": "ipython",
    "version": 3
   },
   "file_extension": ".py",
   "mimetype": "text/x-python",
   "name": "python",
   "nbconvert_exporter": "python",
   "pygments_lexer": "ipython3",
   "version": "3.7.3"
  }
 },
 "nbformat": 4,
 "nbformat_minor": 5
}
